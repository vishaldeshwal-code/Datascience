{
 "cells": [
  {
   "cell_type": "code",
   "execution_count": 4,
   "id": "8322b87b",
   "metadata": {},
   "outputs": [
    {
     "data": {
      "text/plain": [
       "str"
      ]
     },
     "execution_count": 4,
     "metadata": {},
     "output_type": "execute_result"
    }
   ],
   "source": [
    "# Extraction of strings\n",
    "s= \"ineuron\"\n",
    "type (s)"
   ]
  },
  {
   "cell_type": "code",
   "execution_count": 2,
   "id": "e1acd644",
   "metadata": {},
   "outputs": [
    {
     "data": {
      "text/plain": [
       "'i'"
      ]
     },
     "execution_count": 2,
     "metadata": {},
     "output_type": "execute_result"
    }
   ],
   "source": [
    "# positive extraction \n",
    "s[0]"
   ]
  },
  {
   "cell_type": "code",
   "execution_count": 3,
   "id": "c78033a6",
   "metadata": {},
   "outputs": [
    {
     "data": {
      "text/plain": [
       "'o'"
      ]
     },
     "execution_count": 3,
     "metadata": {},
     "output_type": "execute_result"
    }
   ],
   "source": [
    "s[5]"
   ]
  },
  {
   "cell_type": "code",
   "execution_count": 5,
   "id": "1d11be55",
   "metadata": {},
   "outputs": [
    {
     "data": {
      "text/plain": [
       "'n'"
      ]
     },
     "execution_count": 5,
     "metadata": {},
     "output_type": "execute_result"
    }
   ],
   "source": [
    "# Negative extraction\n",
    "s[-1]"
   ]
  },
  {
   "cell_type": "code",
   "execution_count": 6,
   "id": "2f5f3b39",
   "metadata": {},
   "outputs": [
    {
     "data": {
      "text/plain": [
       "'u'"
      ]
     },
     "execution_count": 6,
     "metadata": {},
     "output_type": "execute_result"
    }
   ],
   "source": [
    "s[-4]"
   ]
  },
  {
   "cell_type": "code",
   "execution_count": 7,
   "id": "79b72b32",
   "metadata": {},
   "outputs": [],
   "source": [
    "s2 = \"this is my very first programing class 's\""
   ]
  },
  {
   "cell_type": "code",
   "execution_count": 8,
   "id": "8f6da226",
   "metadata": {},
   "outputs": [
    {
     "data": {
      "text/plain": [
       "\"this is my very first programing class 's\""
      ]
     },
     "execution_count": 8,
     "metadata": {},
     "output_type": "execute_result"
    }
   ],
   "source": [
    "s2"
   ]
  },
  {
   "cell_type": "code",
   "execution_count": 9,
   "id": "5103e966",
   "metadata": {},
   "outputs": [
    {
     "data": {
      "text/plain": [
       "'m'"
      ]
     },
     "execution_count": 9,
     "metadata": {},
     "output_type": "execute_result"
    }
   ],
   "source": [
    "s2[8]"
   ]
  },
  {
   "cell_type": "code",
   "execution_count": 10,
   "id": "268a49a2",
   "metadata": {},
   "outputs": [
    {
     "data": {
      "text/plain": [
       "'f'"
      ]
     },
     "execution_count": 10,
     "metadata": {},
     "output_type": "execute_result"
    }
   ],
   "source": [
    "s2[16]"
   ]
  },
  {
   "cell_type": "code",
   "execution_count": 11,
   "id": "dbb01a15",
   "metadata": {},
   "outputs": [
    {
     "data": {
      "text/plain": [
       "'his '"
      ]
     },
     "execution_count": 11,
     "metadata": {},
     "output_type": "execute_result"
    }
   ],
   "source": [
    "s2[1:5]"
   ]
  },
  {
   "cell_type": "code",
   "execution_count": 14,
   "id": "33c87677",
   "metadata": {},
   "outputs": [
    {
     "data": {
      "text/plain": [
       "'my v'"
      ]
     },
     "execution_count": 14,
     "metadata": {},
     "output_type": "execute_result"
    }
   ],
   "source": [
    "s2[8:12]"
   ]
  },
  {
   "cell_type": "code",
   "execution_count": 15,
   "id": "4945ce08",
   "metadata": {},
   "outputs": [
    {
     "data": {
      "text/plain": [
       "'first programing'"
      ]
     },
     "execution_count": 15,
     "metadata": {},
     "output_type": "execute_result"
    }
   ],
   "source": [
    "s2[16:32]"
   ]
  },
  {
   "cell_type": "code",
   "execution_count": 16,
   "id": "a291aa5b",
   "metadata": {},
   "outputs": [
    {
     "data": {
      "text/plain": [
       "'i yvr is rgai'"
      ]
     },
     "execution_count": 16,
     "metadata": {},
     "output_type": "execute_result"
    }
   ],
   "source": [
    "# extraction with a jump\n",
    "s2[5:30:2]"
   ]
  },
  {
   "cell_type": "code",
   "execution_count": 17,
   "id": "a0014af7",
   "metadata": {},
   "outputs": [
    {
     "data": {
      "text/plain": [
       "'tssye '"
      ]
     },
     "execution_count": 17,
     "metadata": {},
     "output_type": "execute_result"
    }
   ],
   "source": [
    "s2[0:16:3]"
   ]
  },
  {
   "cell_type": "code",
   "execution_count": 19,
   "id": "ac20b76a",
   "metadata": {},
   "outputs": [
    {
     "data": {
      "text/plain": [
       "'m si sih'"
      ]
     },
     "execution_count": 19,
     "metadata": {},
     "output_type": "execute_result"
    }
   ],
   "source": [
    "s2[8:0:-1]"
   ]
  },
  {
   "cell_type": "code",
   "execution_count": 20,
   "id": "ae0b6a3c",
   "metadata": {},
   "outputs": [
    {
     "data": {
      "text/plain": [
       "''"
      ]
     },
     "execution_count": 20,
     "metadata": {},
     "output_type": "execute_result"
    }
   ],
   "source": [
    "s2[8:0:1]"
   ]
  },
  {
   "cell_type": "code",
   "execution_count": 21,
   "id": "55f8a815",
   "metadata": {},
   "outputs": [
    {
     "data": {
      "text/plain": [
       "'this is my very first programing class'"
      ]
     },
     "execution_count": 21,
     "metadata": {},
     "output_type": "execute_result"
    }
   ],
   "source": [
    "s2[:-3]"
   ]
  },
  {
   "cell_type": "code",
   "execution_count": 22,
   "id": "5c54bb01",
   "metadata": {},
   "outputs": [
    {
     "data": {
      "text/plain": [
       "'this is my very first programing class'"
      ]
     },
     "execution_count": 22,
     "metadata": {},
     "output_type": "execute_result"
    }
   ],
   "source": [
    "s2[0:-3]"
   ]
  },
  {
   "cell_type": "code",
   "execution_count": 23,
   "id": "a9860c85",
   "metadata": {},
   "outputs": [],
   "source": [
    "s2 = \"this is my very first programing class 's\""
   ]
  },
  {
   "cell_type": "code",
   "execution_count": 24,
   "id": "b523ef27",
   "metadata": {},
   "outputs": [
    {
     "data": {
      "text/plain": [
       "\"class 's\""
      ]
     },
     "execution_count": 24,
     "metadata": {},
     "output_type": "execute_result"
    }
   ],
   "source": [
    "s2[-8:]"
   ]
  },
  {
   "cell_type": "code",
   "execution_count": 25,
   "id": "ce3543a3",
   "metadata": {},
   "outputs": [
    {
     "data": {
      "text/plain": [
       "'ti sm eyfrtpormn ls s'"
      ]
     },
     "execution_count": 25,
     "metadata": {},
     "output_type": "execute_result"
    }
   ],
   "source": [
    "s2[::2]"
   ]
  },
  {
   "cell_type": "code",
   "execution_count": 26,
   "id": "41b25377",
   "metadata": {},
   "outputs": [
    {
     "data": {
      "text/plain": [
       "'norueni'"
      ]
     },
     "execution_count": 26,
     "metadata": {},
     "output_type": "execute_result"
    }
   ],
   "source": [
    "s[::-1]"
   ]
  },
  {
   "cell_type": "code",
   "execution_count": 27,
   "id": "dfcae1fb",
   "metadata": {},
   "outputs": [
    {
     "data": {
      "text/plain": [
       "\"s' ssalc gnimargorp tsrif yrev ym si siht\""
      ]
     },
     "execution_count": 27,
     "metadata": {},
     "output_type": "execute_result"
    }
   ],
   "source": [
    "# reverse\n",
    "s2[::-1]"
   ]
  },
  {
   "cell_type": "code",
   "execution_count": 28,
   "id": "b604b16c",
   "metadata": {},
   "outputs": [
    {
     "data": {
      "text/plain": [
       "\"s' ssalc gnimargorp tsrif yrev ym si sih\""
      ]
     },
     "execution_count": 28,
     "metadata": {},
     "output_type": "execute_result"
    }
   ],
   "source": [
    "s2[90:0:-1]"
   ]
  },
  {
   "cell_type": "code",
   "execution_count": 29,
   "id": "99d996b6",
   "metadata": {},
   "outputs": [
    {
     "data": {
      "text/plain": [
       "\"this is my very first programing class 's\""
      ]
     },
     "execution_count": 29,
     "metadata": {},
     "output_type": "execute_result"
    }
   ],
   "source": [
    "s2"
   ]
  },
  {
   "cell_type": "code",
   "execution_count": 31,
   "id": "63fbf375",
   "metadata": {},
   "outputs": [
    {
     "ename": "TypeError",
     "evalue": "can only concatenate str (not \"int\") to str",
     "output_type": "error",
     "traceback": [
      "\u001b[1;31m---------------------------------------------------------------------------\u001b[0m",
      "\u001b[1;31mTypeError\u001b[0m                                 Traceback (most recent call last)",
      "Cell \u001b[1;32mIn[31], line 1\u001b[0m\n\u001b[1;32m----> 1\u001b[0m \u001b[43ms\u001b[49m\u001b[38;5;241;43m+\u001b[39;49m\u001b[38;5;241;43m1\u001b[39;49m\n",
      "\u001b[1;31mTypeError\u001b[0m: can only concatenate str (not \"int\") to str"
     ]
    }
   ],
   "source": [
    "s+1"
   ]
  },
  {
   "cell_type": "code",
   "execution_count": 32,
   "id": "4c376f6e",
   "metadata": {},
   "outputs": [
    {
     "ename": "TypeError",
     "evalue": "can only concatenate str (not \"int\") to str",
     "output_type": "error",
     "traceback": [
      "\u001b[1;31m---------------------------------------------------------------------------\u001b[0m",
      "\u001b[1;31mTypeError\u001b[0m                                 Traceback (most recent call last)",
      "Cell \u001b[1;32mIn[32], line 1\u001b[0m\n\u001b[1;32m----> 1\u001b[0m \u001b[43ms\u001b[49m\u001b[43m \u001b[49m\u001b[38;5;241;43m+\u001b[39;49m\u001b[43m \u001b[49m\u001b[38;5;241;43m1\u001b[39;49m\n",
      "\u001b[1;31mTypeError\u001b[0m: can only concatenate str (not \"int\") to str"
     ]
    }
   ],
   "source": [
    "s + 1"
   ]
  },
  {
   "cell_type": "code",
   "execution_count": 33,
   "id": "46a754dd",
   "metadata": {},
   "outputs": [
    {
     "data": {
      "text/plain": [
       "'ineuron'"
      ]
     },
     "execution_count": 33,
     "metadata": {},
     "output_type": "execute_result"
    }
   ],
   "source": [
    "s"
   ]
  },
  {
   "cell_type": "code",
   "execution_count": 34,
   "id": "c292e126",
   "metadata": {},
   "outputs": [
    {
     "data": {
      "text/plain": [
       "'ineuron1'"
      ]
     },
     "execution_count": 34,
     "metadata": {},
     "output_type": "execute_result"
    }
   ],
   "source": [
    "# how to add something (string can only be add with string)\n",
    "s + '1'"
   ]
  },
  {
   "cell_type": "code",
   "execution_count": 35,
   "id": "d6a28aa2",
   "metadata": {},
   "outputs": [
    {
     "data": {
      "text/plain": [
       "\"this is my very first programing class 's1\""
      ]
     },
     "execution_count": 35,
     "metadata": {},
     "output_type": "execute_result"
    }
   ],
   "source": [
    "s2+'1'"
   ]
  },
  {
   "cell_type": "code",
   "execution_count": 36,
   "id": "2978c65a",
   "metadata": {},
   "outputs": [
    {
     "data": {
      "text/plain": [
       "'ineuron1'"
      ]
     },
     "execution_count": 36,
     "metadata": {},
     "output_type": "execute_result"
    }
   ],
   "source": [
    "s+ str(1)"
   ]
  },
  {
   "cell_type": "code",
   "execution_count": 37,
   "id": "d851a87c",
   "metadata": {},
   "outputs": [
    {
     "data": {
      "text/plain": [
       "41"
      ]
     },
     "execution_count": 37,
     "metadata": {},
     "output_type": "execute_result"
    }
   ],
   "source": [
    "len(s2)"
   ]
  },
  {
   "cell_type": "code",
   "execution_count": 38,
   "id": "214bf671",
   "metadata": {},
   "outputs": [
    {
     "data": {
      "text/plain": [
       "'ineuronineuronineuronineuron'"
      ]
     },
     "execution_count": 38,
     "metadata": {},
     "output_type": "execute_result"
    }
   ],
   "source": [
    "s * 4"
   ]
  },
  {
   "cell_type": "code",
   "execution_count": 39,
   "id": "4887bba7",
   "metadata": {},
   "outputs": [
    {
     "data": {
      "text/plain": [
       "'ineuron'"
      ]
     },
     "execution_count": 39,
     "metadata": {},
     "output_type": "execute_result"
    }
   ],
   "source": [
    "s"
   ]
  },
  {
   "cell_type": "code",
   "execution_count": 41,
   "id": "a8297865",
   "metadata": {},
   "outputs": [
    {
     "data": {
      "text/plain": [
       "0"
      ]
     },
     "execution_count": 41,
     "metadata": {},
     "output_type": "execute_result"
    }
   ],
   "source": [
    "s2.count(s)"
   ]
  },
  {
   "cell_type": "code",
   "execution_count": 42,
   "id": "c1939166",
   "metadata": {},
   "outputs": [
    {
     "ename": "NameError",
     "evalue": "name 't' is not defined",
     "output_type": "error",
     "traceback": [
      "\u001b[1;31m---------------------------------------------------------------------------\u001b[0m",
      "\u001b[1;31mNameError\u001b[0m                                 Traceback (most recent call last)",
      "Cell \u001b[1;32mIn[42], line 1\u001b[0m\n\u001b[1;32m----> 1\u001b[0m s2\u001b[38;5;241m.\u001b[39mcount(\u001b[43mt\u001b[49m)\n",
      "\u001b[1;31mNameError\u001b[0m: name 't' is not defined"
     ]
    }
   ],
   "source": [
    "s2.count(t)"
   ]
  },
  {
   "cell_type": "code",
   "execution_count": 43,
   "id": "df6dccfd",
   "metadata": {},
   "outputs": [
    {
     "data": {
      "text/plain": [
       "1"
      ]
     },
     "execution_count": 43,
     "metadata": {},
     "output_type": "execute_result"
    }
   ],
   "source": [
    "s.count(s)"
   ]
  },
  {
   "cell_type": "code",
   "execution_count": 44,
   "id": "715860fe",
   "metadata": {},
   "outputs": [
    {
     "data": {
      "text/plain": [
       "\"this is my very first programing class 's\""
      ]
     },
     "execution_count": 44,
     "metadata": {},
     "output_type": "execute_result"
    }
   ],
   "source": [
    "s2"
   ]
  },
  {
   "cell_type": "code",
   "execution_count": 45,
   "id": "456fc89e",
   "metadata": {},
   "outputs": [
    {
     "data": {
      "text/plain": [
       "0"
      ]
     },
     "execution_count": 45,
     "metadata": {},
     "output_type": "execute_result"
    }
   ],
   "source": [
    "s2.count(s)"
   ]
  },
  {
   "cell_type": "code",
   "execution_count": 46,
   "id": "fa7631a4",
   "metadata": {},
   "outputs": [
    {
     "ename": "SyntaxError",
     "evalue": "invalid syntax (3238358924.py, line 1)",
     "output_type": "error",
     "traceback": [
      "\u001b[1;36m  Cell \u001b[1;32mIn[46], line 1\u001b[1;36m\u001b[0m\n\u001b[1;33m    s2.split(is)\u001b[0m\n\u001b[1;37m             ^\u001b[0m\n\u001b[1;31mSyntaxError\u001b[0m\u001b[1;31m:\u001b[0m invalid syntax\n"
     ]
    }
   ],
   "source": [
    "s2.split(is)"
   ]
  },
  {
   "cell_type": "code",
   "execution_count": 47,
   "id": "4c066fe1",
   "metadata": {},
   "outputs": [
    {
     "data": {
      "text/plain": [
       "['this', 'is', 'my', 'very', 'first', 'programing', 'class', \"'s\"]"
      ]
     },
     "execution_count": 47,
     "metadata": {},
     "output_type": "execute_result"
    }
   ],
   "source": [
    "s2.split(\" \")"
   ]
  },
  {
   "cell_type": "code",
   "execution_count": 48,
   "id": "3c7002bf",
   "metadata": {},
   "outputs": [],
   "source": [
    "st = \"CSK head coach believes the confidence Dube gained from his 27-ball 52 against RCB, where he mostly stood tall against the pace attack, proved to be the gamechanger\""
   ]
  },
  {
   "cell_type": "code",
   "execution_count": 49,
   "id": "e1da86e6",
   "metadata": {},
   "outputs": [
    {
     "data": {
      "text/plain": [
       "'CSK head coach believes the confidence Dube gained from his 27-ball 52 against RCB, where he mostly stood tall against the pace attack, proved to be the gamechanger'"
      ]
     },
     "execution_count": 49,
     "metadata": {},
     "output_type": "execute_result"
    }
   ],
   "source": [
    "st"
   ]
  },
  {
   "cell_type": "code",
   "execution_count": 50,
   "id": "bdc04b7a",
   "metadata": {},
   "outputs": [
    {
     "data": {
      "text/plain": [
       "['CSK',\n",
       " 'head',\n",
       " 'coach',\n",
       " 'believes',\n",
       " 'the',\n",
       " 'confidence',\n",
       " 'Dube',\n",
       " 'gained',\n",
       " 'from',\n",
       " 'his',\n",
       " '27-ball',\n",
       " '52',\n",
       " 'against',\n",
       " 'RCB,',\n",
       " 'where',\n",
       " 'he',\n",
       " 'mostly',\n",
       " 'stood',\n",
       " 'tall',\n",
       " 'against',\n",
       " 'the',\n",
       " 'pace',\n",
       " 'attack,',\n",
       " 'proved',\n",
       " 'to',\n",
       " 'be',\n",
       " 'the',\n",
       " 'gamechanger']"
      ]
     },
     "execution_count": 50,
     "metadata": {},
     "output_type": "execute_result"
    }
   ],
   "source": [
    "st.split(\" \")"
   ]
  },
  {
   "cell_type": "code",
   "execution_count": 51,
   "id": "4975c4ff",
   "metadata": {},
   "outputs": [],
   "source": [
    "oly = \"This article is about the modern games in general. For the most recent games in Beijing, China, see 2022 Winter Olympics. For the upcoming games in Paris, France, see 2024 Summer Olympics. For the ancient Greek games, see Ancient Olympic Games. For other uses, see Olympic (disambiguation).\""
   ]
  },
  {
   "cell_type": "code",
   "execution_count": 52,
   "id": "298334f9",
   "metadata": {},
   "outputs": [
    {
     "data": {
      "text/plain": [
       "'This article is about the modern games in general. For the most recent games in Beijing, China, see 2022 Winter Olympics. For the upcoming games in Paris, France, see 2024 Summer Olympics. For the ancient Greek games, see Ancient Olympic Games. For other uses, see Olympic (disambiguation).'"
      ]
     },
     "execution_count": 52,
     "metadata": {},
     "output_type": "execute_result"
    }
   ],
   "source": [
    "oly"
   ]
  },
  {
   "cell_type": "code",
   "execution_count": 53,
   "id": "6e546b9d",
   "metadata": {},
   "outputs": [
    {
     "data": {
      "text/plain": [
       "['This',\n",
       " 'article',\n",
       " 'is',\n",
       " 'about',\n",
       " 'the',\n",
       " 'modern',\n",
       " 'games',\n",
       " 'in',\n",
       " 'general.',\n",
       " 'For',\n",
       " 'the',\n",
       " 'most',\n",
       " 'recent',\n",
       " 'games',\n",
       " 'in',\n",
       " 'Beijing,',\n",
       " 'China,',\n",
       " 'see',\n",
       " '2022',\n",
       " 'Winter',\n",
       " 'Olympics.',\n",
       " 'For',\n",
       " 'the',\n",
       " 'upcoming',\n",
       " 'games',\n",
       " 'in',\n",
       " 'Paris,',\n",
       " 'France,',\n",
       " 'see',\n",
       " '2024',\n",
       " 'Summer',\n",
       " 'Olympics.',\n",
       " 'For',\n",
       " 'the',\n",
       " 'ancient',\n",
       " 'Greek',\n",
       " 'games,',\n",
       " 'see',\n",
       " 'Ancient',\n",
       " 'Olympic',\n",
       " 'Games.',\n",
       " 'For',\n",
       " 'other',\n",
       " 'uses,',\n",
       " 'see',\n",
       " 'Olympic',\n",
       " '(disambiguation).']"
      ]
     },
     "execution_count": 53,
     "metadata": {},
     "output_type": "execute_result"
    }
   ],
   "source": [
    "oly.split(\" \")"
   ]
  },
  {
   "cell_type": "code",
   "execution_count": 55,
   "id": "3d2672e4",
   "metadata": {},
   "outputs": [],
   "source": [
    "a1 = \"\"\"The evolution of the Olympic Movement during the 20th and 21st centuries has resulted in several changes to the Olympic Games. Some of these adjustments include the creation of the Winter Olympic Games for snow and ice sports, the Paralympic Games for athletes with disabilities, the Youth Olympic Games for athletes aged 14 to 18, the five Continental games (Pan American, African, Asian, European, and Pacific), and the World Games for sports that are not contested in the Olympic Games. The IOC also endorses the Deaflympics and the Special Olympics. The IOC has needed to adapt to a variety of economic, political, and technological advancements. The abuse of amateur rules by the Eastern Bloc nations prompted the IOC to shift away from pure amateurism, as envisioned by Coubertin, to the acceptance of professional athletes participating at the Games. The growing importance of mass media has created the issue of corporate sponsorship and general commercialisation of the Games. World wars led to the cancellation of the 1916, 1940, and 1944 Olympics; large-scale boycotts during the Cold War limited participation in the 1980 and 1984 Olympics;[3] and the 2020 Olympics were postponed until 2021 as a result of the COVID-19 pandemic.\n",
    "\n",
    "The Olympic Movement consists of international sports federations (IFs), National Olympic Committees (NOCs), and organising committees for each specific Olympic Games. As the decision-making body, the IOC is responsible for choosing the host city for each Games, and organises and funds the Games according to the Olympic Charter. The IOC also determines the Olympic programme, consisting of the sports to be contested at the Games. There are several Olympic rituals and symbols, such as the Olympic flag and torch, as well as the opening and closing ceremonies. Over 14,000 athletes competed at the 2020 Summer Olympics and 2022 Winter Olympics combined, in 40 different sports and 448 events.[4][5] The first-, second-, and third-place finishers in each event receive Olympic medals: gold, silver, and bronze, respectively.\"\"\""
   ]
  },
  {
   "cell_type": "code",
   "execution_count": 56,
   "id": "8d5cf0b4",
   "metadata": {},
   "outputs": [
    {
     "data": {
      "text/plain": [
       "'The evolution of the Olympic Movement during the 20th and 21st centuries has resulted in several changes to the Olympic Games. Some of these adjustments include the creation of the Winter Olympic Games for snow and ice sports, the Paralympic Games for athletes with disabilities, the Youth Olympic Games for athletes aged 14 to 18, the five Continental games (Pan American, African, Asian, European, and Pacific), and the World Games for sports that are not contested in the Olympic Games. The IOC also endorses the Deaflympics and the Special Olympics. The IOC has needed to adapt to a variety of economic, political, and technological advancements. The abuse of amateur rules by the Eastern Bloc nations prompted the IOC to shift away from pure amateurism, as envisioned by Coubertin, to the acceptance of professional athletes participating at the Games. The growing importance of mass media has created the issue of corporate sponsorship and general commercialisation of the Games. World wars led to the cancellation of the 1916, 1940, and 1944 Olympics; large-scale boycotts during the Cold War limited participation in the 1980 and 1984 Olympics;[3] and the 2020 Olympics were postponed until 2021 as a result of the COVID-19 pandemic.\\n\\nThe Olympic Movement consists of international sports federations (IFs), National Olympic Committees (NOCs), and organising committees for each specific Olympic Games. As the decision-making body, the IOC is responsible for choosing the host city for each Games, and organises and funds the Games according to the Olympic Charter. The IOC also determines the Olympic programme, consisting of the sports to be contested at the Games. There are several Olympic rituals and symbols, such as the Olympic flag and torch, as well as the opening and closing ceremonies. Over 14,000 athletes competed at the 2020 Summer Olympics and 2022 Winter Olympics combined, in 40 different sports and 448 events.[4][5] The first-, second-, and third-place finishers in each event receive Olympic medals: gold, silver, and bronze, respectively.'"
      ]
     },
     "execution_count": 56,
     "metadata": {},
     "output_type": "execute_result"
    }
   ],
   "source": [
    "a1"
   ]
  },
  {
   "cell_type": "code",
   "execution_count": 57,
   "id": "1d428c63",
   "metadata": {},
   "outputs": [
    {
     "data": {
      "text/plain": [
       "['The',\n",
       " 'evolution',\n",
       " 'of',\n",
       " 'the',\n",
       " 'Olympic',\n",
       " 'Movement',\n",
       " 'during',\n",
       " 'the',\n",
       " '20th',\n",
       " 'and',\n",
       " '21st',\n",
       " 'centuries',\n",
       " 'has',\n",
       " 'resulted',\n",
       " 'in',\n",
       " 'several',\n",
       " 'changes',\n",
       " 'to',\n",
       " 'the',\n",
       " 'Olympic',\n",
       " 'Games.',\n",
       " 'Some',\n",
       " 'of',\n",
       " 'these',\n",
       " 'adjustments',\n",
       " 'include',\n",
       " 'the',\n",
       " 'creation',\n",
       " 'of',\n",
       " 'the',\n",
       " 'Winter',\n",
       " 'Olympic',\n",
       " 'Games',\n",
       " 'for',\n",
       " 'snow',\n",
       " 'and',\n",
       " 'ice',\n",
       " 'sports,',\n",
       " 'the',\n",
       " 'Paralympic',\n",
       " 'Games',\n",
       " 'for',\n",
       " 'athletes',\n",
       " 'with',\n",
       " 'disabilities,',\n",
       " 'the',\n",
       " 'Youth',\n",
       " 'Olympic',\n",
       " 'Games',\n",
       " 'for',\n",
       " 'athletes',\n",
       " 'aged',\n",
       " '14',\n",
       " 'to',\n",
       " '18,',\n",
       " 'the',\n",
       " 'five',\n",
       " 'Continental',\n",
       " 'games',\n",
       " '(Pan',\n",
       " 'American,',\n",
       " 'African,',\n",
       " 'Asian,',\n",
       " 'European,',\n",
       " 'and',\n",
       " 'Pacific),',\n",
       " 'and',\n",
       " 'the',\n",
       " 'World',\n",
       " 'Games',\n",
       " 'for',\n",
       " 'sports',\n",
       " 'that',\n",
       " 'are',\n",
       " 'not',\n",
       " 'contested',\n",
       " 'in',\n",
       " 'the',\n",
       " 'Olympic',\n",
       " 'Games.',\n",
       " 'The',\n",
       " 'IOC',\n",
       " 'also',\n",
       " 'endorses',\n",
       " 'the',\n",
       " 'Deaflympics',\n",
       " 'and',\n",
       " 'the',\n",
       " 'Special',\n",
       " 'Olympics.',\n",
       " 'The',\n",
       " 'IOC',\n",
       " 'has',\n",
       " 'needed',\n",
       " 'to',\n",
       " 'adapt',\n",
       " 'to',\n",
       " 'a',\n",
       " 'variety',\n",
       " 'of',\n",
       " 'economic,',\n",
       " 'political,',\n",
       " 'and',\n",
       " 'technological',\n",
       " 'advancements.',\n",
       " 'The',\n",
       " 'abuse',\n",
       " 'of',\n",
       " 'amateur',\n",
       " 'rules',\n",
       " 'by',\n",
       " 'the',\n",
       " 'Eastern',\n",
       " 'Bloc',\n",
       " 'nations',\n",
       " 'prompted',\n",
       " 'the',\n",
       " 'IOC',\n",
       " 'to',\n",
       " 'shift',\n",
       " 'away',\n",
       " 'from',\n",
       " 'pure',\n",
       " 'amateurism,',\n",
       " 'as',\n",
       " 'envisioned',\n",
       " 'by',\n",
       " 'Coubertin,',\n",
       " 'to',\n",
       " 'the',\n",
       " 'acceptance',\n",
       " 'of',\n",
       " 'professional',\n",
       " 'athletes',\n",
       " 'participating',\n",
       " 'at',\n",
       " 'the',\n",
       " 'Games.',\n",
       " 'The',\n",
       " 'growing',\n",
       " 'importance',\n",
       " 'of',\n",
       " 'mass',\n",
       " 'media',\n",
       " 'has',\n",
       " 'created',\n",
       " 'the',\n",
       " 'issue',\n",
       " 'of',\n",
       " 'corporate',\n",
       " 'sponsorship',\n",
       " 'and',\n",
       " 'general',\n",
       " 'commercialisation',\n",
       " 'of',\n",
       " 'the',\n",
       " 'Games.',\n",
       " 'World',\n",
       " 'wars',\n",
       " 'led',\n",
       " 'to',\n",
       " 'the',\n",
       " 'cancellation',\n",
       " 'of',\n",
       " 'the',\n",
       " '1916,',\n",
       " '1940,',\n",
       " 'and',\n",
       " '1944',\n",
       " 'Olympics;',\n",
       " 'large-scale',\n",
       " 'boycotts',\n",
       " 'during',\n",
       " 'the',\n",
       " 'Cold',\n",
       " 'War',\n",
       " 'limited',\n",
       " 'participation',\n",
       " 'in',\n",
       " 'the',\n",
       " '1980',\n",
       " 'and',\n",
       " '1984',\n",
       " 'Olympics;[3]',\n",
       " 'and',\n",
       " 'the',\n",
       " '2020',\n",
       " 'Olympics',\n",
       " 'were',\n",
       " 'postponed',\n",
       " 'until',\n",
       " '2021',\n",
       " 'as',\n",
       " 'a',\n",
       " 'result',\n",
       " 'of',\n",
       " 'the',\n",
       " 'COVID-19',\n",
       " 'pandemic.\\n\\nThe',\n",
       " 'Olympic',\n",
       " 'Movement',\n",
       " 'consists',\n",
       " 'of',\n",
       " 'international',\n",
       " 'sports',\n",
       " 'federations',\n",
       " '(IFs),',\n",
       " 'National',\n",
       " 'Olympic',\n",
       " 'Committees',\n",
       " '(NOCs),',\n",
       " 'and',\n",
       " 'organising',\n",
       " 'committees',\n",
       " 'for',\n",
       " 'each',\n",
       " 'specific',\n",
       " 'Olympic',\n",
       " 'Games.',\n",
       " 'As',\n",
       " 'the',\n",
       " 'decision-making',\n",
       " 'body,',\n",
       " 'the',\n",
       " 'IOC',\n",
       " 'is',\n",
       " 'responsible',\n",
       " 'for',\n",
       " 'choosing',\n",
       " 'the',\n",
       " 'host',\n",
       " 'city',\n",
       " 'for',\n",
       " 'each',\n",
       " 'Games,',\n",
       " 'and',\n",
       " 'organises',\n",
       " 'and',\n",
       " 'funds',\n",
       " 'the',\n",
       " 'Games',\n",
       " 'according',\n",
       " 'to',\n",
       " 'the',\n",
       " 'Olympic',\n",
       " 'Charter.',\n",
       " 'The',\n",
       " 'IOC',\n",
       " 'also',\n",
       " 'determines',\n",
       " 'the',\n",
       " 'Olympic',\n",
       " 'programme,',\n",
       " 'consisting',\n",
       " 'of',\n",
       " 'the',\n",
       " 'sports',\n",
       " 'to',\n",
       " 'be',\n",
       " 'contested',\n",
       " 'at',\n",
       " 'the',\n",
       " 'Games.',\n",
       " 'There',\n",
       " 'are',\n",
       " 'several',\n",
       " 'Olympic',\n",
       " 'rituals',\n",
       " 'and',\n",
       " 'symbols,',\n",
       " 'such',\n",
       " 'as',\n",
       " 'the',\n",
       " 'Olympic',\n",
       " 'flag',\n",
       " 'and',\n",
       " 'torch,',\n",
       " 'as',\n",
       " 'well',\n",
       " 'as',\n",
       " 'the',\n",
       " 'opening',\n",
       " 'and',\n",
       " 'closing',\n",
       " 'ceremonies.',\n",
       " 'Over',\n",
       " '14,000',\n",
       " 'athletes',\n",
       " 'competed',\n",
       " 'at',\n",
       " 'the',\n",
       " '2020',\n",
       " 'Summer',\n",
       " 'Olympics',\n",
       " 'and',\n",
       " '2022',\n",
       " 'Winter',\n",
       " 'Olympics',\n",
       " 'combined,',\n",
       " 'in',\n",
       " '40',\n",
       " 'different',\n",
       " 'sports',\n",
       " 'and',\n",
       " '448',\n",
       " 'events.[4][5]',\n",
       " 'The',\n",
       " 'first-,',\n",
       " 'second-,',\n",
       " 'and',\n",
       " 'third-place',\n",
       " 'finishers',\n",
       " 'in',\n",
       " 'each',\n",
       " 'event',\n",
       " 'receive',\n",
       " 'Olympic',\n",
       " 'medals:',\n",
       " 'gold,',\n",
       " 'silver,',\n",
       " 'and',\n",
       " 'bronze,',\n",
       " 'respectively.']"
      ]
     },
     "execution_count": 57,
     "metadata": {},
     "output_type": "execute_result"
    }
   ],
   "source": [
    "a1.split(\" \")"
   ]
  },
  {
   "cell_type": "code",
   "execution_count": 59,
   "id": "9b6b1a7c",
   "metadata": {},
   "outputs": [],
   "source": [
    "s2 = \"vinita\""
   ]
  },
  {
   "cell_type": "code",
   "execution_count": 60,
   "id": "6f29aa9e",
   "metadata": {},
   "outputs": [
    {
     "data": {
      "text/plain": [
       "'vinita'"
      ]
     },
     "execution_count": 60,
     "metadata": {},
     "output_type": "execute_result"
    }
   ],
   "source": [
    "s2"
   ]
  },
  {
   "cell_type": "code",
   "execution_count": 61,
   "id": "c615bed2",
   "metadata": {},
   "outputs": [
    {
     "data": {
      "text/plain": [
       "['v', 'n', 'ta']"
      ]
     },
     "execution_count": 61,
     "metadata": {},
     "output_type": "execute_result"
    }
   ],
   "source": [
    "s2.split(\"i\")"
   ]
  },
  {
   "cell_type": "code",
   "execution_count": 62,
   "id": "d7152403",
   "metadata": {},
   "outputs": [
    {
     "data": {
      "text/plain": [
       "'THE EVOLUTION OF THE OLYMPIC MOVEMENT DURING THE 20TH AND 21ST CENTURIES HAS RESULTED IN SEVERAL CHANGES TO THE OLYMPIC GAMES. SOME OF THESE ADJUSTMENTS INCLUDE THE CREATION OF THE WINTER OLYMPIC GAMES FOR SNOW AND ICE SPORTS, THE PARALYMPIC GAMES FOR ATHLETES WITH DISABILITIES, THE YOUTH OLYMPIC GAMES FOR ATHLETES AGED 14 TO 18, THE FIVE CONTINENTAL GAMES (PAN AMERICAN, AFRICAN, ASIAN, EUROPEAN, AND PACIFIC), AND THE WORLD GAMES FOR SPORTS THAT ARE NOT CONTESTED IN THE OLYMPIC GAMES. THE IOC ALSO ENDORSES THE DEAFLYMPICS AND THE SPECIAL OLYMPICS. THE IOC HAS NEEDED TO ADAPT TO A VARIETY OF ECONOMIC, POLITICAL, AND TECHNOLOGICAL ADVANCEMENTS. THE ABUSE OF AMATEUR RULES BY THE EASTERN BLOC NATIONS PROMPTED THE IOC TO SHIFT AWAY FROM PURE AMATEURISM, AS ENVISIONED BY COUBERTIN, TO THE ACCEPTANCE OF PROFESSIONAL ATHLETES PARTICIPATING AT THE GAMES. THE GROWING IMPORTANCE OF MASS MEDIA HAS CREATED THE ISSUE OF CORPORATE SPONSORSHIP AND GENERAL COMMERCIALISATION OF THE GAMES. WORLD WARS LED TO THE CANCELLATION OF THE 1916, 1940, AND 1944 OLYMPICS; LARGE-SCALE BOYCOTTS DURING THE COLD WAR LIMITED PARTICIPATION IN THE 1980 AND 1984 OLYMPICS;[3] AND THE 2020 OLYMPICS WERE POSTPONED UNTIL 2021 AS A RESULT OF THE COVID-19 PANDEMIC.\\n\\nTHE OLYMPIC MOVEMENT CONSISTS OF INTERNATIONAL SPORTS FEDERATIONS (IFS), NATIONAL OLYMPIC COMMITTEES (NOCS), AND ORGANISING COMMITTEES FOR EACH SPECIFIC OLYMPIC GAMES. AS THE DECISION-MAKING BODY, THE IOC IS RESPONSIBLE FOR CHOOSING THE HOST CITY FOR EACH GAMES, AND ORGANISES AND FUNDS THE GAMES ACCORDING TO THE OLYMPIC CHARTER. THE IOC ALSO DETERMINES THE OLYMPIC PROGRAMME, CONSISTING OF THE SPORTS TO BE CONTESTED AT THE GAMES. THERE ARE SEVERAL OLYMPIC RITUALS AND SYMBOLS, SUCH AS THE OLYMPIC FLAG AND TORCH, AS WELL AS THE OPENING AND CLOSING CEREMONIES. OVER 14,000 ATHLETES COMPETED AT THE 2020 SUMMER OLYMPICS AND 2022 WINTER OLYMPICS COMBINED, IN 40 DIFFERENT SPORTS AND 448 EVENTS.[4][5] THE FIRST-, SECOND-, AND THIRD-PLACE FINISHERS IN EACH EVENT RECEIVE OLYMPIC MEDALS: GOLD, SILVER, AND BRONZE, RESPECTIVELY.'"
      ]
     },
     "execution_count": 62,
     "metadata": {},
     "output_type": "execute_result"
    }
   ],
   "source": [
    "a1.upper()"
   ]
  },
  {
   "cell_type": "code",
   "execution_count": 63,
   "id": "7a915aa6",
   "metadata": {},
   "outputs": [
    {
     "data": {
      "text/plain": [
       "'The evolution of the Olympic Movement during the 20th and 21st centuries has resulted in several changes to the Olympic Games. Some of these adjustments include the creation of the Winter Olympic Games for snow and ice sports, the Paralympic Games for athletes with disabilities, the Youth Olympic Games for athletes aged 14 to 18, the five Continental games (Pan American, African, Asian, European, and Pacific), and the World Games for sports that are not contested in the Olympic Games. The IOC also endorses the Deaflympics and the Special Olympics. The IOC has needed to adapt to a variety of economic, political, and technological advancements. The abuse of amateur rules by the Eastern Bloc nations prompted the IOC to shift away from pure amateurism, as envisioned by Coubertin, to the acceptance of professional athletes participating at the Games. The growing importance of mass media has created the issue of corporate sponsorship and general commercialisation of the Games. World wars led to the cancellation of the 1916, 1940, and 1944 Olympics; large-scale boycotts during the Cold War limited participation in the 1980 and 1984 Olympics;[3] and the 2020 Olympics were postponed until 2021 as a result of the COVID-19 pandemic.\\n\\nThe Olympic Movement consists of international sports federations (IFs), National Olympic Committees (NOCs), and organising committees for each specific Olympic Games. As the decision-making body, the IOC is responsible for choosing the host city for each Games, and organises and funds the Games according to the Olympic Charter. The IOC also determines the Olympic programme, consisting of the sports to be contested at the Games. There are several Olympic rituals and symbols, such as the Olympic flag and torch, as well as the opening and closing ceremonies. Over 14,000 athletes competed at the 2020 Summer Olympics and 2022 Winter Olympics combined, in 40 different sports and 448 events.[4][5] The first-, second-, and third-place finishers in each event receive Olympic medals: gold, silver, and bronze, respectively.'"
      ]
     },
     "execution_count": 63,
     "metadata": {},
     "output_type": "execute_result"
    }
   ],
   "source": [
    "a1"
   ]
  },
  {
   "cell_type": "code",
   "execution_count": 64,
   "id": "39787f1f",
   "metadata": {},
   "outputs": [
    {
     "data": {
      "text/plain": [
       "'the evolution of the olympic movement during the 20th and 21st centuries has resulted in several changes to the olympic games. some of these adjustments include the creation of the winter olympic games for snow and ice sports, the paralympic games for athletes with disabilities, the youth olympic games for athletes aged 14 to 18, the five continental games (pan american, african, asian, european, and pacific), and the world games for sports that are not contested in the olympic games. the ioc also endorses the deaflympics and the special olympics. the ioc has needed to adapt to a variety of economic, political, and technological advancements. the abuse of amateur rules by the eastern bloc nations prompted the ioc to shift away from pure amateurism, as envisioned by coubertin, to the acceptance of professional athletes participating at the games. the growing importance of mass media has created the issue of corporate sponsorship and general commercialisation of the games. world wars led to the cancellation of the 1916, 1940, and 1944 olympics; large-scale boycotts during the cold war limited participation in the 1980 and 1984 olympics;[3] and the 2020 olympics were postponed until 2021 as a result of the covid-19 pandemic.\\n\\nthe olympic movement consists of international sports federations (ifs), national olympic committees (nocs), and organising committees for each specific olympic games. as the decision-making body, the ioc is responsible for choosing the host city for each games, and organises and funds the games according to the olympic charter. the ioc also determines the olympic programme, consisting of the sports to be contested at the games. there are several olympic rituals and symbols, such as the olympic flag and torch, as well as the opening and closing ceremonies. over 14,000 athletes competed at the 2020 summer olympics and 2022 winter olympics combined, in 40 different sports and 448 events.[4][5] the first-, second-, and third-place finishers in each event receive olympic medals: gold, silver, and bronze, respectively.'"
      ]
     },
     "execution_count": 64,
     "metadata": {},
     "output_type": "execute_result"
    }
   ],
   "source": [
    "a1.lower()"
   ]
  },
  {
   "cell_type": "code",
   "execution_count": 65,
   "id": "5a9fbdf9",
   "metadata": {},
   "outputs": [
    {
     "data": {
      "text/plain": [
       "'Ineuron'"
      ]
     },
     "execution_count": 65,
     "metadata": {},
     "output_type": "execute_result"
    }
   ],
   "source": [
    "s.title()"
   ]
  },
  {
   "cell_type": "code",
   "execution_count": 66,
   "id": "6042a460",
   "metadata": {},
   "outputs": [
    {
     "data": {
      "text/plain": [
       "'ineuron'"
      ]
     },
     "execution_count": 66,
     "metadata": {},
     "output_type": "execute_result"
    }
   ],
   "source": [
    "s"
   ]
  },
  {
   "cell_type": "code",
   "execution_count": 67,
   "id": "13b08d3c",
   "metadata": {},
   "outputs": [],
   "source": [
    "s= \"vishal deESHwal\""
   ]
  },
  {
   "cell_type": "code",
   "execution_count": 68,
   "id": "21d23f04",
   "metadata": {},
   "outputs": [
    {
     "data": {
      "text/plain": [
       "'Vishal Deshwal'"
      ]
     },
     "execution_count": 68,
     "metadata": {},
     "output_type": "execute_result"
    }
   ],
   "source": [
    "s.title()"
   ]
  },
  {
   "cell_type": "code",
   "execution_count": 69,
   "id": "f7d4b976",
   "metadata": {},
   "outputs": [
    {
     "data": {
      "text/plain": [
       "'Vishal deshwal'"
      ]
     },
     "execution_count": 69,
     "metadata": {},
     "output_type": "execute_result"
    }
   ],
   "source": [
    "s.capitalize()"
   ]
  },
  {
   "cell_type": "code",
   "execution_count": 72,
   "id": "5e56fd50",
   "metadata": {},
   "outputs": [
    {
     "data": {
      "text/plain": [
       "'VISHAL DESHWAL'"
      ]
     },
     "execution_count": 72,
     "metadata": {},
     "output_type": "execute_result"
    }
   ],
   "source": [
    "s.swapcase()"
   ]
  },
  {
   "cell_type": "code",
   "execution_count": 73,
   "id": "10f98748",
   "metadata": {},
   "outputs": [],
   "source": [
    "s = \"vinita PAGAL\""
   ]
  },
  {
   "cell_type": "code",
   "execution_count": 74,
   "id": "426fdd45",
   "metadata": {},
   "outputs": [
    {
     "data": {
      "text/plain": [
       "'VINITA pagal'"
      ]
     },
     "execution_count": 74,
     "metadata": {},
     "output_type": "execute_result"
    }
   ],
   "source": [
    "s.swapcase()"
   ]
  },
  {
   "cell_type": "code",
   "execution_count": 79,
   "id": "4a98293d",
   "metadata": {},
   "outputs": [
    {
     "data": {
      "text/plain": [
       "'LAGAP atiniv'"
      ]
     },
     "execution_count": 79,
     "metadata": {},
     "output_type": "execute_result"
    }
   ],
   "source": [
    "''.join(reversed(s))"
   ]
  },
  {
   "cell_type": "code",
   "execution_count": 77,
   "id": "e82cdf72",
   "metadata": {},
   "outputs": [
    {
     "ename": "AttributeError",
     "evalue": "'str' object has no attribute 'reversed'",
     "output_type": "error",
     "traceback": [
      "\u001b[1;31m---------------------------------------------------------------------------\u001b[0m",
      "\u001b[1;31mAttributeError\u001b[0m                            Traceback (most recent call last)",
      "Cell \u001b[1;32mIn[77], line 1\u001b[0m\n\u001b[1;32m----> 1\u001b[0m \u001b[43ms\u001b[49m\u001b[38;5;241;43m.\u001b[39;49m\u001b[43mreversed\u001b[49m()\n",
      "\u001b[1;31mAttributeError\u001b[0m: 'str' object has no attribute 'reversed'"
     ]
    }
   ],
   "source": [
    "s.reversed()"
   ]
  },
  {
   "cell_type": "code",
   "execution_count": 78,
   "id": "03866f26",
   "metadata": {},
   "outputs": [
    {
     "data": {
      "text/plain": [
       "'LAGAP atiniv'"
      ]
     },
     "execution_count": 78,
     "metadata": {},
     "output_type": "execute_result"
    }
   ],
   "source": [
    "s[::-1]"
   ]
  },
  {
   "cell_type": "code",
   "execution_count": 88,
   "id": "3df78ba6",
   "metadata": {},
   "outputs": [],
   "source": [
    "s = \"vinits\""
   ]
  },
  {
   "cell_type": "code",
   "execution_count": 81,
   "id": "f966418d",
   "metadata": {},
   "outputs": [
    {
     "data": {
      "text/plain": [
       "'vinits'"
      ]
     },
     "execution_count": 81,
     "metadata": {},
     "output_type": "execute_result"
    }
   ],
   "source": [
    "s.strip()"
   ]
  },
  {
   "cell_type": "code",
   "execution_count": 82,
   "id": "7aaae010",
   "metadata": {},
   "outputs": [
    {
     "data": {
      "text/plain": [
       "'vinits    '"
      ]
     },
     "execution_count": 82,
     "metadata": {},
     "output_type": "execute_result"
    }
   ],
   "source": [
    "s.lstrip()"
   ]
  },
  {
   "cell_type": "code",
   "execution_count": 84,
   "id": "a4ce7be6",
   "metadata": {},
   "outputs": [
    {
     "data": {
      "text/plain": [
       "'     vinits'"
      ]
     },
     "execution_count": 84,
     "metadata": {},
     "output_type": "execute_result"
    }
   ],
   "source": [
    "s.rstrip()"
   ]
  },
  {
   "cell_type": "code",
   "execution_count": 86,
   "id": "833c0542",
   "metadata": {},
   "outputs": [
    {
     "data": {
      "text/plain": [
       "'vvivsvhvavl'"
      ]
     },
     "execution_count": 86,
     "metadata": {},
     "output_type": "execute_result"
    }
   ],
   "source": [
    "\"v\".join(\"vishal\")"
   ]
  },
  {
   "cell_type": "code",
   "execution_count": 89,
   "id": "a8829dcf",
   "metadata": {},
   "outputs": [
    {
     "data": {
      "text/plain": [
       "'zzzzzzzvinitszzzzzzz'"
      ]
     },
     "execution_count": 89,
     "metadata": {},
     "output_type": "execute_result"
    }
   ],
   "source": [
    "s.center(20,'z')"
   ]
  },
  {
   "cell_type": "code",
   "execution_count": 92,
   "id": "7df48749",
   "metadata": {},
   "outputs": [
    {
     "data": {
      "text/plain": [
       "True"
      ]
     },
     "execution_count": 92,
     "metadata": {},
     "output_type": "execute_result"
    }
   ],
   "source": [
    "# is function will give value as true and false\n",
    "s.islower()"
   ]
  },
  {
   "cell_type": "code",
   "execution_count": 93,
   "id": "32c1d7cc",
   "metadata": {},
   "outputs": [
    {
     "data": {
      "text/plain": [
       "False"
      ]
     },
     "execution_count": 93,
     "metadata": {},
     "output_type": "execute_result"
    }
   ],
   "source": [
    "s.isupper()"
   ]
  },
  {
   "cell_type": "code",
   "execution_count": 94,
   "id": "c9aa0026",
   "metadata": {},
   "outputs": [
    {
     "data": {
      "text/plain": [
       "False"
      ]
     },
     "execution_count": 94,
     "metadata": {},
     "output_type": "execute_result"
    }
   ],
   "source": [
    "s.isspace()"
   ]
  },
  {
   "cell_type": "code",
   "execution_count": 95,
   "id": "9f6140f3",
   "metadata": {},
   "outputs": [],
   "source": [
    "s3 = \"    \""
   ]
  },
  {
   "cell_type": "code",
   "execution_count": 96,
   "id": "2d40d482",
   "metadata": {},
   "outputs": [
    {
     "data": {
      "text/plain": [
       "True"
      ]
     },
     "execution_count": 96,
     "metadata": {},
     "output_type": "execute_result"
    }
   ],
   "source": [
    "s3.isspace()"
   ]
  },
  {
   "cell_type": "code",
   "execution_count": 97,
   "id": "30a193f4",
   "metadata": {},
   "outputs": [],
   "source": [
    "s4= \"56854569\""
   ]
  },
  {
   "cell_type": "code",
   "execution_count": 98,
   "id": "74b0c3a7",
   "metadata": {},
   "outputs": [
    {
     "data": {
      "text/plain": [
       "True"
      ]
     },
     "execution_count": 98,
     "metadata": {},
     "output_type": "execute_result"
    }
   ],
   "source": [
    "s4.isdigit()"
   ]
  },
  {
   "cell_type": "code",
   "execution_count": 99,
   "id": "2b75781f",
   "metadata": {},
   "outputs": [
    {
     "data": {
      "text/plain": [
       "False"
      ]
     },
     "execution_count": 99,
     "metadata": {},
     "output_type": "execute_result"
    }
   ],
   "source": [
    "s3.isdigit()"
   ]
  },
  {
   "cell_type": "code",
   "execution_count": 101,
   "id": "01b5ae0b",
   "metadata": {},
   "outputs": [
    {
     "data": {
      "text/plain": [
       "False"
      ]
     },
     "execution_count": 101,
     "metadata": {},
     "output_type": "execute_result"
    }
   ],
   "source": [
    "s3.isalnum()"
   ]
  },
  {
   "cell_type": "code",
   "execution_count": 102,
   "id": "7ebdd117",
   "metadata": {},
   "outputs": [
    {
     "data": {
      "text/plain": [
       "'    '"
      ]
     },
     "execution_count": 102,
     "metadata": {},
     "output_type": "execute_result"
    }
   ],
   "source": [
    "s3"
   ]
  },
  {
   "cell_type": "code",
   "execution_count": 104,
   "id": "03fd9dd9",
   "metadata": {},
   "outputs": [
    {
     "data": {
      "text/plain": [
       "True"
      ]
     },
     "execution_count": 104,
     "metadata": {},
     "output_type": "execute_result"
    }
   ],
   "source": [
    "s4.isalnum()"
   ]
  },
  {
   "cell_type": "code",
   "execution_count": 105,
   "id": "18ce4be1",
   "metadata": {},
   "outputs": [
    {
     "data": {
      "text/plain": [
       "False"
      ]
     },
     "execution_count": 105,
     "metadata": {},
     "output_type": "execute_result"
    }
   ],
   "source": [
    "s4.isalpha()"
   ]
  },
  {
   "cell_type": "code",
   "execution_count": 1,
   "id": "d442e088",
   "metadata": {},
   "outputs": [],
   "source": [
    "s7 = \"46164sghfg\""
   ]
  },
  {
   "cell_type": "code",
   "execution_count": 2,
   "id": "e54a8b93",
   "metadata": {},
   "outputs": [
    {
     "data": {
      "text/plain": [
       "False"
      ]
     },
     "execution_count": 2,
     "metadata": {},
     "output_type": "execute_result"
    }
   ],
   "source": [
    "s7.isalpha()"
   ]
  },
  {
   "cell_type": "code",
   "execution_count": 3,
   "id": "3bd2ca9a",
   "metadata": {},
   "outputs": [
    {
     "ename": "NameError",
     "evalue": "name 's' is not defined",
     "output_type": "error",
     "traceback": [
      "\u001b[1;31m---------------------------------------------------------------------------\u001b[0m",
      "\u001b[1;31mNameError\u001b[0m                                 Traceback (most recent call last)",
      "Cell \u001b[1;32mIn[3], line 1\u001b[0m\n\u001b[1;32m----> 1\u001b[0m \u001b[43ms\u001b[49m\u001b[38;5;241m.\u001b[39misalpha()\n",
      "\u001b[1;31mNameError\u001b[0m: name 's' is not defined"
     ]
    }
   ],
   "source": [
    "s.isalpha()"
   ]
  },
  {
   "cell_type": "code",
   "execution_count": 4,
   "id": "2457fb2e",
   "metadata": {},
   "outputs": [
    {
     "ename": "NameError",
     "evalue": "name 's' is not defined",
     "output_type": "error",
     "traceback": [
      "\u001b[1;31m---------------------------------------------------------------------------\u001b[0m",
      "\u001b[1;31mNameError\u001b[0m                                 Traceback (most recent call last)",
      "Cell \u001b[1;32mIn[4], line 1\u001b[0m\n\u001b[1;32m----> 1\u001b[0m \u001b[43ms\u001b[49m\n",
      "\u001b[1;31mNameError\u001b[0m: name 's' is not defined"
     ]
    }
   ],
   "source": [
    "s"
   ]
  },
  {
   "cell_type": "code",
   "execution_count": 5,
   "id": "93794ea6",
   "metadata": {},
   "outputs": [
    {
     "ename": "NameError",
     "evalue": "name 'ineuron' is not defined",
     "output_type": "error",
     "traceback": [
      "\u001b[1;31m---------------------------------------------------------------------------\u001b[0m",
      "\u001b[1;31mNameError\u001b[0m                                 Traceback (most recent call last)",
      "Cell \u001b[1;32mIn[5], line 1\u001b[0m\n\u001b[1;32m----> 1\u001b[0m s\u001b[38;5;241m=\u001b[39m \u001b[43mineuron\u001b[49m\n",
      "\u001b[1;31mNameError\u001b[0m: name 'ineuron' is not defined"
     ]
    }
   ],
   "source": [
    "s= ineuron"
   ]
  },
  {
   "cell_type": "code",
   "execution_count": 6,
   "id": "75760c4a",
   "metadata": {},
   "outputs": [],
   "source": [
    "s=\"ineuron\""
   ]
  },
  {
   "cell_type": "code",
   "execution_count": 7,
   "id": "77105c75",
   "metadata": {},
   "outputs": [
    {
     "data": {
      "text/plain": [
       "True"
      ]
     },
     "execution_count": 7,
     "metadata": {},
     "output_type": "execute_result"
    }
   ],
   "source": [
    "s.isalpha()"
   ]
  },
  {
   "cell_type": "code",
   "execution_count": 8,
   "id": "e2989c7e",
   "metadata": {},
   "outputs": [
    {
     "data": {
      "text/plain": [
       "True"
      ]
     },
     "execution_count": 8,
     "metadata": {},
     "output_type": "execute_result"
    }
   ],
   "source": [
    "s.startswith('i')"
   ]
  },
  {
   "cell_type": "code",
   "execution_count": 9,
   "id": "ac9795ba",
   "metadata": {},
   "outputs": [
    {
     "data": {
      "text/plain": [
       "False"
      ]
     },
     "execution_count": 9,
     "metadata": {},
     "output_type": "execute_result"
    }
   ],
   "source": [
    "s.startswith(\"s\")"
   ]
  },
  {
   "cell_type": "code",
   "execution_count": 10,
   "id": "24aded7f",
   "metadata": {},
   "outputs": [
    {
     "data": {
      "text/plain": [
       "True"
      ]
     },
     "execution_count": 10,
     "metadata": {},
     "output_type": "execute_result"
    }
   ],
   "source": [
    "s.isascii()"
   ]
  },
  {
   "cell_type": "code",
   "execution_count": 15,
   "id": "3e560b67",
   "metadata": {},
   "outputs": [],
   "source": [
    "s= \"vishal\\tdeshwal\\tlegato\""
   ]
  },
  {
   "cell_type": "code",
   "execution_count": 16,
   "id": "09e43453",
   "metadata": {},
   "outputs": [
    {
     "data": {
      "text/plain": [
       "'vishal  deshwal legato'"
      ]
     },
     "execution_count": 16,
     "metadata": {},
     "output_type": "execute_result"
    }
   ],
   "source": [
    "s.expandtabs()"
   ]
  },
  {
   "cell_type": "code",
   "execution_count": null,
   "id": "37c29518",
   "metadata": {},
   "outputs": [],
   "source": []
  }
 ],
 "metadata": {
  "kernelspec": {
   "display_name": "Python 3 (ipykernel)",
   "language": "python",
   "name": "python3"
  },
  "language_info": {
   "codemirror_mode": {
    "name": "ipython",
    "version": 3
   },
   "file_extension": ".py",
   "mimetype": "text/x-python",
   "name": "python",
   "nbconvert_exporter": "python",
   "pygments_lexer": "ipython3",
   "version": "3.10.9"
  }
 },
 "nbformat": 4,
 "nbformat_minor": 5
}
